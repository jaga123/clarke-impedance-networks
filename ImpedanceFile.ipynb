{
 "cells": [
  {
   "cell_type": "code",
   "execution_count": 50,
   "metadata": {},
   "outputs": [],
   "source": [
    "# Library import\n",
    "import math\n",
    "import numpy as np\n",
    "import pandas as pd\n",
    "from IPython.display import Image\n",
    "import re"
   ]
  },
  {
   "attachments": {},
   "cell_type": "markdown",
   "metadata": {},
   "source": [
    "# Clarke Network Based Distance Protection\n",
    "## Boundary Conditions For Fault Types\n",
    "### Single Phase Faults\n",
    "\\begin{equation} \\tilde{V}_a = 0 \\end{equation}\n",
    "\\begin{equation} \\Delta \\tilde{I}_b = \\Delta \\tilde{I}_c = 0 \\end{equation}\n",
    "\\begin{equation} \\Delta \\tilde{V}_\\alpha + \\Delta \\tilde{V}_0 = 0 \\end{equation}\n",
    "\\begin{equation} \\Delta \\tilde{I}_\\beta = 0 \\end{equation}\n",
    "\\begin{equation} k_0 \\times \\Delta \\tilde{I}_\\alpha = \\Delta \\tilde{I}_0 = 0 \\end{equation}\n",
    "\n",
    "### Three Phase Faults\n",
    "\\begin{equation} \\tilde{V}_a = \\tilde{V}_b = \\tilde{V}_c = 0 \\end{equation}\n",
    "\\begin{equation} \\Delta \\tilde{I}_a + \\Delta \\tilde{I}_b + \\Delta \\tilde{I}_c = 0 \\end{equation}\n",
    "\\begin{equation} \\Delta \\tilde{I}_\\alpha = 0 \\end{equation}\n",
    "\\begin{equation} \\Delta \\tilde{V}_\\alpha = 0 \\end{equation}\n",
    "\\begin{equation} \\Delta \\tilde{V}_\\beta = 0 \\end{equation}\n",
    "\n",
    "### Phase to Phase Faults (BC Fault)\n",
    "\\begin{equation} \\tilde{I}_a = 0 \\end{equation}\n",
    "\\begin{equation} \\Delta \\tilde{I}_b + \\Delta \\tilde{I}_c = 0 \\end{equation}\n",
    "\\begin{equation} \\Delta \\tilde{V}_b = \\Delta \\tilde{V}_c = 0 \\end{equation}\n",
    "\\begin{equation} \\Delta \\tilde{I}_\\alpha = \\Delta \\tilde{I}_0 = 0 \\end{equation}\n",
    "\\begin{equation} \\Delta \\tilde{V}_\\beta = 0 \\end{equation}\n",
    "\n",
    "### Logic Condition to Fix the Numerical Error in Calculation k0\n",
    ">>>if: \n",
    "\\begin{equation} \\bigg( \\bigg |\\frac{i_0(k)}{i_\\alpha(k)}\\bigg| > 0.5 \\bigg) || \\Bigg( \\Bigg| \\frac{\\big|\\frac{i_0(k)}{i_\\alpha (k)} \\big| - \\big|\\frac{i_0(k-1)}{i_\\alpha (k-1)} \\big|}{\\big|\\frac{i_0(k-1)}{i_\\alpha (k-1)} \\big|} \\Bigg|\\times100 \\Bigg) > k\\end{equation} \n",
    ">>>then:\n",
    "\\begin{equation} \\big|\\frac{i_0(k)}{i_\\alpha (k)} \\big| = \\big|\\frac{i_0(k-1)}{i_\\alpha (k-1)} \\big| \\end{equation}\n",
    "\n",
    "### Fault Resistance Model (Ground Faults)\n",
    "<img src=\"fault_resistance_model.png\" alt=\"drawing\" width=\"300\"/>\n",
    "Estimated inductance\n",
    "\\begin{equation} L_{est} = x \\times (L_1 + k_0 L_0) \\end{equation}\n",
    "Estimated Resistance\n",
    "\\begin{equation} R_{est} = x \\times (R_1 + k_0 R_0) + kR_f \\end{equation}\n",
    "<br>\n",
    "Line inductance ratio (known quantity)\n",
    "<br>\n",
    "\\begin{equation} \\frac{L_0}{L_1} = k_1 \\end{equation}\n",
    "<br>\n",
    "Line resistance ratio (known quantity)\n",
    "<br>\n",
    "\\begin{equation} \\frac{R_0}{R_1} = k_2 \\end{equation}\n",
    "<br>\n",
    "\\begin{equation} x = \\frac{L_{est}}{L_1(1+k_0k_1)} \\end{equation}\n",
    "<br>\n",
    "\\begin{equation} R_f = R_{est} - \\frac{L_{est}R_1(1+k_2k_0)}{L_1(1 + k1k_0)} \\end{equation}\n",
    "<br>\n",
    "\\begin{equation} R_{Loop} = R_{est} - R_f \\end{equation}"
   ]
  },
  {
   "cell_type": "code",
   "execution_count": 6,
   "metadata": {},
   "outputs": [
    {
     "name": "stdout",
     "output_type": "stream",
     "text": [
      "529.0\n"
     ]
    }
   ],
   "source": [
    "Vbase = 230;\n",
    "Sbase = 100;\n",
    "Zbase = Vbase**2/Sbase;\n",
    "print(Zbase)"
   ]
  },
  {
   "cell_type": "code",
   "execution_count": 7,
   "metadata": {},
   "outputs": [],
   "source": [
    "# Per unit \n",
    "R1 = 0.964957982E-02\n",
    "X1 = 0.118248408j\n",
    "R0 = 0.812354658E-01\n",
    "X0 = 0.325471390j\n",
    "Z1 = R1+X1\n",
    "Z0 = R0+X0\n",
    "L1 = (X1/(2*math.pi*50)).imag\n",
    "L0 = (X0/(2*math.pi*50)).imag\n",
    "k1 = L0/L1\n",
    "k2 = R0/R1"
   ]
  },
  {
   "cell_type": "code",
   "execution_count": 8,
   "metadata": {},
   "outputs": [],
   "source": [
    "# Source Impedance\n",
    "Rs = 0.994772\n",
    "Xs = 49.990j"
   ]
  },
  {
   "cell_type": "code",
   "execution_count": 12,
   "metadata": {},
   "outputs": [
    {
     "name": "stdout",
     "output_type": "stream",
     "text": [
      "R and L estimates in Ground Fault Loop\n",
      "Location \t R \t\t\t L\n",
      "10 \t\t 2.6591 \t \t 0.0473\n",
      "20 \t\t 5.3183 \t \t 0.0946\n",
      "30 \t\t 7.9774 \t \t 0.1419\n",
      "40 \t\t 10.6366 \t \t 0.1893\n",
      "50 \t\t 13.2957 \t \t 0.2366\n",
      "60 \t\t 15.9548 \t \t 0.2839\n",
      "70 \t\t 18.614 \t \t 0.3312\n",
      "80 \t\t 21.2731 \t \t 0.3785\n",
      "90 \t\t 23.9323 \t \t 0.4258\n",
      "[2.6591, 5.3183, 7.9774, 10.6366, 13.2957, 15.9548, 18.614, 21.2731, 23.9323]\n",
      "[0.0473, 0.0946, 0.1419, 0.1893, 0.2366, 0.2839, 0.3312, 0.3785, 0.4258]\n"
     ]
    }
   ],
   "source": [
    "Z = (Z1+Z0/2)*Zbase\n",
    "# Print Impedance Values for different length\n",
    "location = 0\n",
    "print('R and L estimates in Ground Fault Loop')\n",
    "print('Location \\t R \\t\\t\\t L')\n",
    "Rest_LG = []\n",
    "Lest_LG = []\n",
    "for x in range(1,10):\n",
    "    print(location+x*10, '\\t\\t', round((Z*(location+x*10/100)).real,4),'\\t','\\t',round((Z*(location+x*10/100)).imag/(2*math.pi*50),4))\n",
    "    Rest_LG += [round((Z*(location+x*10/100)).real,4)]\n",
    "    Lest_LG += [round((Z*(location+x*10/100)).imag/(2*math.pi*50),4)]\n",
    "print(Rest_LG)\n",
    "print(Lest_LG)"
   ]
  },
  {
   "cell_type": "code",
   "execution_count": 13,
   "metadata": {},
   "outputs": [
    {
     "name": "stdout",
     "output_type": "stream",
     "text": [
      "(5.10462772478+62.553407832j)\n",
      "R and L estimates in Phase Fault Loop\n",
      "Location \t R \t\t\t L\n",
      "10 \t\t 0.5105 \t \t 0.0199\n",
      "20 \t\t 1.0209 \t \t 0.0398\n",
      "30 \t\t 1.5314 \t \t 0.0597\n",
      "40 \t\t 2.0419 \t \t 0.0796\n",
      "50 \t\t 2.5523 \t \t 0.0996\n",
      "60 \t\t 3.0628 \t \t 0.1195\n",
      "70 \t\t 3.5732 \t \t 0.1394\n",
      "80 \t\t 4.0837 \t \t 0.1593\n",
      "90 \t\t 4.5942 \t \t 0.1792\n",
      "[0.5105, 1.0209, 1.5314, 2.0419, 2.5523, 3.0628, 3.5732, 4.0837, 4.5942]\n",
      "[0.0199, 0.0398, 0.0597, 0.0796, 0.0996, 0.1195, 0.1394, 0.1593, 0.1792]\n"
     ]
    }
   ],
   "source": [
    "Zph = Z1*Zbase\n",
    "location = 0\n",
    "print('R and L estimates in Phase Fault Loop')\n",
    "print('Location \\t R \\t\\t\\t L')\n",
    "Rest_LL = []\n",
    "Lest_LL = []\n",
    "for x in range(1,10):\n",
    "    print(location+x*10, '\\t\\t', round((Zph*(location+x*10/100)).real,4),'\\t','\\t',round((Zph*(location+x*10/100)).imag/(2*math.pi*50),4))\n",
    "    Rest_LL += [round((Zph*(location+x*10/100)).real,4)]\n",
    "    Lest_LL += [round((Zph*(location+x*10/100)).imag/(2*math.pi*50),4)]\n",
    "print(Rest_LL)\n",
    "print(Lest_LL)"
   ]
  },
  {
   "cell_type": "code",
   "execution_count": 60,
   "metadata": {},
   "outputs": [],
   "source": [
    "SheetNames = ['10','20','30','40','50','60','70','80','90']\n",
    "df_dict = pd.read_excel('C:/Users/wiwmigjs/OneDrive - University of Manitoba (1)/PHD/Research/Incremental/Excel/Clarke Fault Loop Estimation/Second Attempt/Single Ended/5 Ohm/AG.xlsx', sheet_name=None, skiprows=[0])"
   ]
  },
  {
   "cell_type": "code",
   "execution_count": 65,
   "metadata": {},
   "outputs": [
    {
     "name": "stdout",
     "output_type": "stream",
     "text": [
      "12.7430997308\n",
      "12.7430814481\n",
      "12.7430866492\n",
      "12.7430709539\n",
      "12.7432329946\n",
      "12.7430589326\n",
      "12.7430626405\n",
      "12.7430454711\n",
      "12.7430518432\n"
     ]
    }
   ],
   "source": [
    "ialpha_post_fault = 0;\n",
    "izero_post_fault = 0;\n",
    "VTR = 2000;\n",
    "CTR = 200;\n",
    "dt = 250E-6; # Changed dt value to 50E-6\n",
    "fs = 1/dt;\n",
    "f = 50;\n",
    "T = 1/f;\n",
    "NSC = T/dt;\n",
    "Tfault = 0.998;\n",
    "Ralpha_act = 2.699;\n",
    "Lalpha_act = 14.956/(2*math.pi*50);\n",
    "for k in range(0,len(SheetNames)):\n",
    "    # Get data from\n",
    "    df = df_dict.get(SheetNames[k])\n",
    "    t = (df.columns[0])\n",
    "    print(t)\n",
    "    #t = t[6:]\n",
    "    #[float(i) for i in t]\n",
    "    \n",
    "    ialpha = df.columns[1]\n",
    "    ibeta = df.columns[2]\n",
    "    izero = df.columns[3]\n",
    "    valpha = df.columns[4]\n",
    "    vbeta = df.columns[5]\n",
    "    vzero = df.columns[6]\n",
    "    idx = 1;\n",
    "    mat_len = NSC/8;\n",
    "    mat_idx = 1;\n",
    "    bufful = 0;\n",
    "    k = 1;\n",
    "    Lprev = 0;\n",
    "    Lest_err = 0;\n",
    "    trip_cnt = 0;\n",
    "    Trip = np.zeros((9,600));\n",
    "    i = 0\n",
    "    #while i < len(t)-1:\n",
    "        #if t[i] >= (Tfault):\n",
    "           # print('Fault')\n",
    "        #i = i+1\n",
    "        \n",
    "\n",
    "# Preview\n",
    "#print(len(df_feb.columns))\n",
    "#print(df_feb.iloc[:, 1])"
   ]
  },
  {
   "cell_type": "code",
   "execution_count": null,
   "metadata": {},
   "outputs": [],
   "source": []
  }
 ],
 "metadata": {
  "kernelspec": {
   "display_name": "Python 3",
   "language": "python",
   "name": "python3"
  }
 },
 "nbformat": 4,
 "nbformat_minor": 2
}
